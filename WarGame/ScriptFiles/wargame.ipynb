{
 "cells": [
  {
   "cell_type": "code",
   "execution_count": 3,
   "metadata": {},
   "outputs": [],
   "source": [
    "import random"
   ]
  },
  {
   "cell_type": "code",
   "execution_count": 4,
   "metadata": {},
   "outputs": [],
   "source": [
    "names = (\n",
    "    \"Two\", \"Three\", \"Four\", \"Five\", \"Six\", \"Seven\", \n",
    "    \"Eight\", \"Nine\", \"Ten\", \"Jack\", \"Queen\", \"King\", \"Ace\"\n",
    "    )\n",
    "ranks = {\n",
    "    \"Two\": 2, \"Three\": 3, \"Four\": 4, \"Five\": 5, \"Six\": 6, \"Seven\": 7, \"Eight\":8,\n",
    "    \"Nine\": 9, \"Ten\": 10, \"Jack\": 11, \"Queen\":12, \"King\": 13, \"Ace\": 14\n",
    "}\n",
    "suits = (\"Hearts\",\"Diamonds\",\"Clubs\",\"Spades\")"
   ]
  },
  {
   "cell_type": "code",
   "execution_count": 5,
   "metadata": {},
   "outputs": [],
   "source": [
    "class Card():\n",
    "    # ranking ID\n",
    "    def __init__(self, name, suit):\n",
    "    # card name\n",
    "        self.name = name\n",
    "    # character\n",
    "        self.suit = suit\n",
    "    # ranking or card ID\n",
    "        self.value = ranks[name]\n",
    "    def __str__(self):\n",
    "        return self.name + ' of ' + self.suit"
   ]
  },
  {
   "cell_type": "code",
   "execution_count": 6,
   "metadata": {},
   "outputs": [],
   "source": [
    "class Deck:\n",
    "    \n",
    "    def __init__(self):\n",
    "        \n",
    "        self.all_cards = []\n",
    "        \n",
    "        for name in names:\n",
    "            for suit in suits:\n",
    "                    # Creating the Card object here\n",
    "                created_card = Card(name, suit)\n",
    "                    \n",
    "                self.all_cards.append(created_card)\n",
    "    # Shuffle the deck of cards            \n",
    "    def shuffle(self):\n",
    "        random.shuffle(self.all_cards)\n",
    "    # method to deal a card to play\n",
    "    def deal_one(self):\n",
    "        return self.all_cards.pop()"
   ]
  },
  {
   "cell_type": "code",
   "execution_count": 7,
   "metadata": {},
   "outputs": [],
   "source": [
    "class Player:\n",
    "    def __init__(self,name):\n",
    "        \n",
    "        self.name = name\n",
    "        self.all_cards = []\n",
    "        \n",
    "    def remove_one(self):\n",
    "        return self.all_cards.pop(0)\n",
    "    \n",
    "    def add_cards(self, new_cards):\n",
    "        if type(new_cards) == type([]):\n",
    "            #When the player needs to add multiple cards\n",
    "            self.all_cards.extend(new_cards)\n",
    "        else:\n",
    "            #When the player only needs to add one card\n",
    "            self.all_cards.append(new_cards)\n",
    "    \n",
    "    def __str__(self):\n",
    "        return f'Player {self.name} has {len(self.all_cards)} cards!'"
   ]
  },
  {
   "cell_type": "code",
   "execution_count": 8,
   "metadata": {},
   "outputs": [
    {
     "data": {
      "text/plain": [
       "52"
      ]
     },
     "execution_count": 8,
     "metadata": {},
     "output_type": "execute_result"
    }
   ],
   "source": [
    "#Create new instance of card deck\n",
    "deck_of_cards = Deck()\n",
    "deck_of_cards.shuffle()\n",
    "len(deck_of_cards.all_cards)"
   ]
  },
  {
   "cell_type": "code",
   "execution_count": 9,
   "metadata": {},
   "outputs": [
    {
     "name": "stdout",
     "output_type": "stream",
     "text": [
      "Player Barbara has 0 cards!  and  Player Artjom has 0 cards!\n"
     ]
    }
   ],
   "source": [
    "# Create new player instances\n",
    "Player_One = Player(\"Barbara\")\n",
    "Player_Two = Player(\"Artjom\")\n",
    "print(Player_One, \" and \", Player_Two)"
   ]
  },
  {
   "cell_type": "code",
   "execution_count": 10,
   "metadata": {},
   "outputs": [],
   "source": [
    "def splitDeck(deck,pl1,pl2):\n",
    "    middle_index = 26\n",
    "    list_one = deck[:middle_index]\n",
    "    list_two = deck[middle_index:]\n",
    "\n",
    "    pl1.add_cards(list_one)\n",
    "    pl2.add_cards(list_two)"
   ]
  },
  {
   "cell_type": "code",
   "execution_count": 11,
   "metadata": {},
   "outputs": [],
   "source": [
    "splitDeck(deck_of_cards.all_cards,Player_One,Player_Two)"
   ]
  },
  {
   "cell_type": "code",
   "execution_count": 12,
   "metadata": {},
   "outputs": [
    {
     "data": {
      "text/plain": [
       "True"
      ]
     },
     "execution_count": 12,
     "metadata": {},
     "output_type": "execute_result"
    }
   ],
   "source": [
    "def checkPlayerDeck(player1,player2):\n",
    "    if len(player1.all_cards) != 0 or len(player2.all_cards) != 0:\n",
    "        return True\n",
    "    else:\n",
    "        return False\n",
    "    \n",
    "checkPlayerDeck(Player_One,Player_Two)"
   ]
  },
  {
   "cell_type": "code",
   "execution_count": 13,
   "metadata": {},
   "outputs": [],
   "source": [
    "def addThreeCards(player):\n",
    "    three_cards = [1,2,3]\n",
    "    list1 = []\n",
    "    \n",
    "    for card in three_cards:\n",
    "        list1 = player.remove_one(card)\n",
    "        \n",
    "    return list1"
   ]
  },
  {
   "cell_type": "code",
   "execution_count": 14,
   "metadata": {},
   "outputs": [],
   "source": [
    "while checkPlayerDeck == True:\n",
    "    checkRanking\n",
    "        "
   ]
  },
  {
   "cell_type": "code",
   "execution_count": 19,
   "metadata": {},
   "outputs": [
    {
     "name": "stdout",
     "output_type": "stream",
     "text": [
      "11\n",
      "10\n"
     ]
    }
   ],
   "source": [
    "player_one_cards = []\n",
    "player_two_cards = []\n",
    "\n",
    "player_one_cards.append(Player_One.remove_one())\n",
    "player_two_cards.append(Player_Two.remove_one())\n",
    "\n",
    "print(player_one_cards[-1].value)\n",
    "print(player_two_cards[-1].value)"
   ]
  },
  {
   "cell_type": "code",
   "execution_count": null,
   "metadata": {},
   "outputs": [],
   "source": [
    "def checkRanking(card1,card2):\n",
    "    \n",
    "    player1_list = []\n",
    "    player2_list = []\n",
    "    \n",
    "    if card1.value == card2.value:\n",
    "        player1_list = addThreeCards(Player_One)\n",
    "        player2_list = addThreeCards(Player_Two)\n",
    "        \n",
    "        pullCardfromDeck(Player_One)\n",
    "        pullCardfromDeck(Player_Two)\n",
    "        \n",
    "    elif card1.value > card2.value:\n",
    "        return # addCards to player 1\n",
    "    else:\n",
    "        #addCards to player 2\n",
    "        return "
   ]
  }
 ],
 "metadata": {
  "interpreter": {
   "hash": "e7370f93d1d0cde622a1f8e1c04877d8463912d04d973331ad4851f04de6915a"
  },
  "kernelspec": {
   "display_name": "Python 3.10.4 64-bit",
   "language": "python",
   "name": "python3"
  },
  "language_info": {
   "codemirror_mode": {
    "name": "ipython",
    "version": 3
   },
   "file_extension": ".py",
   "mimetype": "text/x-python",
   "name": "python",
   "nbconvert_exporter": "python",
   "pygments_lexer": "ipython3",
   "version": "3.10.4"
  },
  "orig_nbformat": 4
 },
 "nbformat": 4,
 "nbformat_minor": 2
}
